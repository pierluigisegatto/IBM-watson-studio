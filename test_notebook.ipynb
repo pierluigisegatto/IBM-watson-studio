{
    "cells": [
        {
            "cell_type": "code",
            "execution_count": 6,
            "metadata": {},
            "outputs": [
                {
                    "data": {
                        "text/html": "<div>\n<style scoped>\n    .dataframe tbody tr th:only-of-type {\n        vertical-align: middle;\n    }\n\n    .dataframe tbody tr th {\n        vertical-align: top;\n    }\n\n    .dataframe thead th {\n        text-align: right;\n    }\n</style>\n<table border=\"1\" class=\"dataframe\">\n  <thead>\n    <tr style=\"text-align: right;\">\n      <th></th>\n      <th>Date</th>\n      <th>High</th>\n      <th>Low</th>\n      <th>Open</th>\n      <th>Close</th>\n      <th>Volume</th>\n      <th>Adj Close</th>\n    </tr>\n  </thead>\n  <tbody>\n    <tr>\n      <th>0</th>\n      <td>2015-11-23</td>\n      <td>2095.610107</td>\n      <td>2081.389893</td>\n      <td>2089.409912</td>\n      <td>2086.590088</td>\n      <td>3.587980e+09</td>\n      <td>2086.590088</td>\n    </tr>\n    <tr>\n      <th>1</th>\n      <td>2015-11-24</td>\n      <td>2094.120117</td>\n      <td>2070.290039</td>\n      <td>2084.419922</td>\n      <td>2089.139893</td>\n      <td>3.884930e+09</td>\n      <td>2089.139893</td>\n    </tr>\n    <tr>\n      <th>2</th>\n      <td>2015-11-25</td>\n      <td>2093.000000</td>\n      <td>2086.300049</td>\n      <td>2089.300049</td>\n      <td>2088.870117</td>\n      <td>2.852940e+09</td>\n      <td>2088.870117</td>\n    </tr>\n    <tr>\n      <th>3</th>\n      <td>2015-11-26</td>\n      <td>2093.000000</td>\n      <td>2086.300049</td>\n      <td>2089.300049</td>\n      <td>2088.870117</td>\n      <td>2.852940e+09</td>\n      <td>2088.870117</td>\n    </tr>\n    <tr>\n      <th>4</th>\n      <td>2015-11-27</td>\n      <td>2093.290039</td>\n      <td>2084.129883</td>\n      <td>2088.820068</td>\n      <td>2090.110107</td>\n      <td>1.466840e+09</td>\n      <td>2090.110107</td>\n    </tr>\n  </tbody>\n</table>\n</div>",
                        "text/plain": "         Date         High          Low         Open        Close  \\\n0  2015-11-23  2095.610107  2081.389893  2089.409912  2086.590088   \n1  2015-11-24  2094.120117  2070.290039  2084.419922  2089.139893   \n2  2015-11-25  2093.000000  2086.300049  2089.300049  2088.870117   \n3  2015-11-26  2093.000000  2086.300049  2089.300049  2088.870117   \n4  2015-11-27  2093.290039  2084.129883  2088.820068  2090.110107   \n\n         Volume    Adj Close  \n0  3.587980e+09  2086.590088  \n1  3.884930e+09  2089.139893  \n2  2.852940e+09  2088.870117  \n3  2.852940e+09  2088.870117  \n4  1.466840e+09  2090.110107  "
                    },
                    "execution_count": 6,
                    "metadata": {},
                    "output_type": "execute_result"
                }
            ],
            "source": "# The code was removed by Watson Studio for sharing."
        },
        {
            "cell_type": "code",
            "execution_count": 13,
            "metadata": {},
            "outputs": [
                {
                    "data": {
                        "text/html": "<div>\n<style scoped>\n    .dataframe tbody tr th:only-of-type {\n        vertical-align: middle;\n    }\n\n    .dataframe tbody tr th {\n        vertical-align: top;\n    }\n\n    .dataframe thead th {\n        text-align: right;\n    }\n</style>\n<table border=\"1\" class=\"dataframe\">\n  <thead>\n    <tr style=\"text-align: right;\">\n      <th></th>\n      <th>High</th>\n      <th>Low</th>\n      <th>Open</th>\n      <th>Close</th>\n      <th>Volume</th>\n      <th>Adj Close</th>\n    </tr>\n    <tr>\n      <th>Date</th>\n      <th></th>\n      <th></th>\n      <th></th>\n      <th></th>\n      <th></th>\n      <th></th>\n    </tr>\n  </thead>\n  <tbody>\n    <tr>\n      <th>2015-11-23</th>\n      <td>2095.610107</td>\n      <td>2081.389893</td>\n      <td>2089.409912</td>\n      <td>2086.590088</td>\n      <td>3.587980e+09</td>\n      <td>2086.590088</td>\n    </tr>\n    <tr>\n      <th>2015-11-24</th>\n      <td>2094.120117</td>\n      <td>2070.290039</td>\n      <td>2084.419922</td>\n      <td>2089.139893</td>\n      <td>3.884930e+09</td>\n      <td>2089.139893</td>\n    </tr>\n    <tr>\n      <th>2015-11-25</th>\n      <td>2093.000000</td>\n      <td>2086.300049</td>\n      <td>2089.300049</td>\n      <td>2088.870117</td>\n      <td>2.852940e+09</td>\n      <td>2088.870117</td>\n    </tr>\n    <tr>\n      <th>2015-11-26</th>\n      <td>2093.000000</td>\n      <td>2086.300049</td>\n      <td>2089.300049</td>\n      <td>2088.870117</td>\n      <td>2.852940e+09</td>\n      <td>2088.870117</td>\n    </tr>\n    <tr>\n      <th>2015-11-27</th>\n      <td>2093.290039</td>\n      <td>2084.129883</td>\n      <td>2088.820068</td>\n      <td>2090.110107</td>\n      <td>1.466840e+09</td>\n      <td>2090.110107</td>\n    </tr>\n    <tr>\n      <th>...</th>\n      <td>...</td>\n      <td>...</td>\n      <td>...</td>\n      <td>...</td>\n      <td>...</td>\n      <td>...</td>\n    </tr>\n    <tr>\n      <th>2020-11-16</th>\n      <td>3628.510010</td>\n      <td>3600.159912</td>\n      <td>3600.159912</td>\n      <td>3626.909912</td>\n      <td>5.281980e+09</td>\n      <td>3626.909912</td>\n    </tr>\n    <tr>\n      <th>2020-11-17</th>\n      <td>3623.110107</td>\n      <td>3588.679932</td>\n      <td>3610.310059</td>\n      <td>3609.530029</td>\n      <td>4.799570e+09</td>\n      <td>3609.530029</td>\n    </tr>\n    <tr>\n      <th>2020-11-18</th>\n      <td>3619.090088</td>\n      <td>3567.330078</td>\n      <td>3612.090088</td>\n      <td>3567.790039</td>\n      <td>5.274450e+09</td>\n      <td>3567.790039</td>\n    </tr>\n    <tr>\n      <th>2020-11-19</th>\n      <td>3585.219971</td>\n      <td>3543.840088</td>\n      <td>3559.409912</td>\n      <td>3581.870117</td>\n      <td>4.347200e+09</td>\n      <td>3581.870117</td>\n    </tr>\n    <tr>\n      <th>2020-11-20</th>\n      <td>3581.229980</td>\n      <td>3556.850098</td>\n      <td>3579.310059</td>\n      <td>3557.540039</td>\n      <td>2.236662e+09</td>\n      <td>3557.540039</td>\n    </tr>\n  </tbody>\n</table>\n<p>1825 rows \u00d7 6 columns</p>\n</div>",
                        "text/plain": "                   High          Low         Open        Close        Volume  \\\nDate                                                                           \n2015-11-23  2095.610107  2081.389893  2089.409912  2086.590088  3.587980e+09   \n2015-11-24  2094.120117  2070.290039  2084.419922  2089.139893  3.884930e+09   \n2015-11-25  2093.000000  2086.300049  2089.300049  2088.870117  2.852940e+09   \n2015-11-26  2093.000000  2086.300049  2089.300049  2088.870117  2.852940e+09   \n2015-11-27  2093.290039  2084.129883  2088.820068  2090.110107  1.466840e+09   \n...                 ...          ...          ...          ...           ...   \n2020-11-16  3628.510010  3600.159912  3600.159912  3626.909912  5.281980e+09   \n2020-11-17  3623.110107  3588.679932  3610.310059  3609.530029  4.799570e+09   \n2020-11-18  3619.090088  3567.330078  3612.090088  3567.790039  5.274450e+09   \n2020-11-19  3585.219971  3543.840088  3559.409912  3581.870117  4.347200e+09   \n2020-11-20  3581.229980  3556.850098  3579.310059  3557.540039  2.236662e+09   \n\n              Adj Close  \nDate                     \n2015-11-23  2086.590088  \n2015-11-24  2089.139893  \n2015-11-25  2088.870117  \n2015-11-26  2088.870117  \n2015-11-27  2090.110107  \n...                 ...  \n2020-11-16  3626.909912  \n2020-11-17  3609.530029  \n2020-11-18  3567.790039  \n2020-11-19  3581.870117  \n2020-11-20  3557.540039  \n\n[1825 rows x 6 columns]"
                    },
                    "execution_count": 13,
                    "metadata": {},
                    "output_type": "execute_result"
                }
            ],
            "source": "df_data_1.set_index(df_data_1['Date']).drop(columns='Date')"
        },
        {
            "cell_type": "code",
            "execution_count": 3,
            "metadata": {},
            "outputs": [
                {
                    "data": {
                        "text/plain": "array([[1, 2, 3],\n       [3, 4, 5]])"
                    },
                    "execution_count": 3,
                    "metadata": {},
                    "output_type": "execute_result"
                }
            ],
            "source": "x"
        },
        {
            "cell_type": "code",
            "execution_count": null,
            "metadata": {},
            "outputs": [],
            "source": ""
        }
    ],
    "metadata": {
        "kernelspec": {
            "display_name": "Python 3.7",
            "language": "python",
            "name": "python3"
        },
        "language_info": {
            "codemirror_mode": {
                "name": "ipython",
                "version": 3
            },
            "file_extension": ".py",
            "mimetype": "text/x-python",
            "name": "python",
            "nbconvert_exporter": "python",
            "pygments_lexer": "ipython3",
            "version": "3.7.9"
        }
    },
    "nbformat": 4,
    "nbformat_minor": 1
}